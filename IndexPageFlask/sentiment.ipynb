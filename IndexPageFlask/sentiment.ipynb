{
 "cells": [
  {
   "cell_type": "code",
   "execution_count": 2,
   "metadata": {
    "colab": {
     "base_uri": "https://localhost:8080/"
    },
    "executionInfo": {
     "elapsed": 25053,
     "status": "ok",
     "timestamp": 1680591867153,
     "user": {
      "displayName": "sandalu sankaja de silva",
      "userId": "12826508473947062911"
     },
     "user_tz": -330
    },
    "id": "blCYpPlUP1xG",
    "outputId": "39c84214-4d35-4dfc-ad6d-fc192124f4f6"
   },
   "outputs": [
    {
     "name": "stdout",
     "output_type": "stream",
     "text": [
      "Requirement already satisfied: tensorflow in /Users/sandaludesilva/opt/anaconda3/lib/python3.9/site-packages (2.11.0)\n",
      "Requirement already satisfied: grpcio<2.0,>=1.24.3 in /Users/sandaludesilva/opt/anaconda3/lib/python3.9/site-packages (from tensorflow) (1.51.3)\n",
      "Requirement already satisfied: six>=1.12.0 in /Users/sandaludesilva/opt/anaconda3/lib/python3.9/site-packages (from tensorflow) (1.16.0)\n",
      "Requirement already satisfied: typing-extensions>=3.6.6 in /Users/sandaludesilva/opt/anaconda3/lib/python3.9/site-packages (from tensorflow) (4.3.0)\n",
      "Requirement already satisfied: tensorflow-io-gcs-filesystem>=0.23.1 in /Users/sandaludesilva/opt/anaconda3/lib/python3.9/site-packages (from tensorflow) (0.31.0)\n",
      "Requirement already satisfied: gast<=0.4.0,>=0.2.1 in /Users/sandaludesilva/opt/anaconda3/lib/python3.9/site-packages (from tensorflow) (0.4.0)\n",
      "Requirement already satisfied: setuptools in /Users/sandaludesilva/opt/anaconda3/lib/python3.9/site-packages (from tensorflow) (63.4.1)\n",
      "Requirement already satisfied: tensorboard<2.12,>=2.11 in /Users/sandaludesilva/opt/anaconda3/lib/python3.9/site-packages (from tensorflow) (2.11.2)\n",
      "Requirement already satisfied: absl-py>=1.0.0 in /Users/sandaludesilva/opt/anaconda3/lib/python3.9/site-packages (from tensorflow) (1.4.0)\n",
      "Requirement already satisfied: google-pasta>=0.1.1 in /Users/sandaludesilva/opt/anaconda3/lib/python3.9/site-packages (from tensorflow) (0.2.0)\n",
      "Requirement already satisfied: tensorflow-estimator<2.12,>=2.11.0 in /Users/sandaludesilva/opt/anaconda3/lib/python3.9/site-packages (from tensorflow) (2.11.0)\n",
      "Requirement already satisfied: termcolor>=1.1.0 in /Users/sandaludesilva/opt/anaconda3/lib/python3.9/site-packages (from tensorflow) (2.2.0)\n",
      "Requirement already satisfied: opt-einsum>=2.3.2 in /Users/sandaludesilva/opt/anaconda3/lib/python3.9/site-packages (from tensorflow) (3.3.0)\n",
      "Requirement already satisfied: packaging in /Users/sandaludesilva/opt/anaconda3/lib/python3.9/site-packages (from tensorflow) (21.3)\n",
      "Requirement already satisfied: astunparse>=1.6.0 in /Users/sandaludesilva/opt/anaconda3/lib/python3.9/site-packages (from tensorflow) (1.6.3)\n",
      "Requirement already satisfied: wrapt>=1.11.0 in /Users/sandaludesilva/opt/anaconda3/lib/python3.9/site-packages (from tensorflow) (1.14.1)\n",
      "Requirement already satisfied: flatbuffers>=2.0 in /Users/sandaludesilva/opt/anaconda3/lib/python3.9/site-packages (from tensorflow) (23.3.3)\n",
      "Requirement already satisfied: numpy>=1.20 in /Users/sandaludesilva/opt/anaconda3/lib/python3.9/site-packages (from tensorflow) (1.21.5)\n",
      "Requirement already satisfied: libclang>=13.0.0 in /Users/sandaludesilva/opt/anaconda3/lib/python3.9/site-packages (from tensorflow) (15.0.6.1)\n",
      "Requirement already satisfied: protobuf<3.20,>=3.9.2 in /Users/sandaludesilva/opt/anaconda3/lib/python3.9/site-packages (from tensorflow) (3.19.6)\n",
      "Requirement already satisfied: keras<2.12,>=2.11.0 in /Users/sandaludesilva/opt/anaconda3/lib/python3.9/site-packages (from tensorflow) (2.11.0)\n",
      "Requirement already satisfied: h5py>=2.9.0 in /Users/sandaludesilva/opt/anaconda3/lib/python3.9/site-packages (from tensorflow) (3.7.0)\n",
      "Requirement already satisfied: wheel<1.0,>=0.23.0 in /Users/sandaludesilva/opt/anaconda3/lib/python3.9/site-packages (from astunparse>=1.6.0->tensorflow) (0.37.1)\n",
      "Requirement already satisfied: tensorboard-plugin-wit>=1.6.0 in /Users/sandaludesilva/opt/anaconda3/lib/python3.9/site-packages (from tensorboard<2.12,>=2.11->tensorflow) (1.8.1)\n",
      "Requirement already satisfied: tensorboard-data-server<0.7.0,>=0.6.0 in /Users/sandaludesilva/opt/anaconda3/lib/python3.9/site-packages (from tensorboard<2.12,>=2.11->tensorflow) (0.6.1)\n",
      "Requirement already satisfied: markdown>=2.6.8 in /Users/sandaludesilva/opt/anaconda3/lib/python3.9/site-packages (from tensorboard<2.12,>=2.11->tensorflow) (3.3.4)\n",
      "Requirement already satisfied: requests<3,>=2.21.0 in /Users/sandaludesilva/opt/anaconda3/lib/python3.9/site-packages (from tensorboard<2.12,>=2.11->tensorflow) (2.28.1)\n",
      "Requirement already satisfied: werkzeug>=1.0.1 in /Users/sandaludesilva/opt/anaconda3/lib/python3.9/site-packages (from tensorboard<2.12,>=2.11->tensorflow) (2.0.3)\n",
      "Requirement already satisfied: google-auth-oauthlib<0.5,>=0.4.1 in /Users/sandaludesilva/opt/anaconda3/lib/python3.9/site-packages (from tensorboard<2.12,>=2.11->tensorflow) (0.4.6)\n",
      "Requirement already satisfied: google-auth<3,>=1.6.3 in /Users/sandaludesilva/opt/anaconda3/lib/python3.9/site-packages (from tensorboard<2.12,>=2.11->tensorflow) (2.16.2)\n",
      "Requirement already satisfied: pyparsing!=3.0.5,>=2.0.2 in /Users/sandaludesilva/opt/anaconda3/lib/python3.9/site-packages (from packaging->tensorflow) (3.0.9)\n",
      "Requirement already satisfied: pyasn1-modules>=0.2.1 in /Users/sandaludesilva/opt/anaconda3/lib/python3.9/site-packages (from google-auth<3,>=1.6.3->tensorboard<2.12,>=2.11->tensorflow) (0.2.8)\n",
      "Requirement already satisfied: cachetools<6.0,>=2.0.0 in /Users/sandaludesilva/opt/anaconda3/lib/python3.9/site-packages (from google-auth<3,>=1.6.3->tensorboard<2.12,>=2.11->tensorflow) (5.3.0)\n",
      "Requirement already satisfied: rsa<5,>=3.1.4 in /Users/sandaludesilva/opt/anaconda3/lib/python3.9/site-packages (from google-auth<3,>=1.6.3->tensorboard<2.12,>=2.11->tensorflow) (4.9)\n",
      "Requirement already satisfied: requests-oauthlib>=0.7.0 in /Users/sandaludesilva/opt/anaconda3/lib/python3.9/site-packages (from google-auth-oauthlib<0.5,>=0.4.1->tensorboard<2.12,>=2.11->tensorflow) (1.3.1)\n",
      "Requirement already satisfied: urllib3<1.27,>=1.21.1 in /Users/sandaludesilva/opt/anaconda3/lib/python3.9/site-packages (from requests<3,>=2.21.0->tensorboard<2.12,>=2.11->tensorflow) (1.26.11)\n",
      "Requirement already satisfied: idna<4,>=2.5 in /Users/sandaludesilva/opt/anaconda3/lib/python3.9/site-packages (from requests<3,>=2.21.0->tensorboard<2.12,>=2.11->tensorflow) (3.3)\n",
      "Requirement already satisfied: certifi>=2017.4.17 in /Users/sandaludesilva/opt/anaconda3/lib/python3.9/site-packages (from requests<3,>=2.21.0->tensorboard<2.12,>=2.11->tensorflow) (2022.9.24)\n",
      "Requirement already satisfied: charset-normalizer<3,>=2 in /Users/sandaludesilva/opt/anaconda3/lib/python3.9/site-packages (from requests<3,>=2.21.0->tensorboard<2.12,>=2.11->tensorflow) (2.0.4)\n",
      "Requirement already satisfied: pyasn1<0.5.0,>=0.4.6 in /Users/sandaludesilva/opt/anaconda3/lib/python3.9/site-packages (from pyasn1-modules>=0.2.1->google-auth<3,>=1.6.3->tensorboard<2.12,>=2.11->tensorflow) (0.4.8)\n",
      "Requirement already satisfied: oauthlib>=3.0.0 in /Users/sandaludesilva/opt/anaconda3/lib/python3.9/site-packages (from requests-oauthlib>=0.7.0->google-auth-oauthlib<0.5,>=0.4.1->tensorboard<2.12,>=2.11->tensorflow) (3.2.2)\n",
      "Requirement already satisfied: nltk in /Users/sandaludesilva/opt/anaconda3/lib/python3.9/site-packages (3.7)\n",
      "Requirement already satisfied: joblib in /Users/sandaludesilva/opt/anaconda3/lib/python3.9/site-packages (from nltk) (1.1.0)\n",
      "Requirement already satisfied: regex>=2021.8.3 in /Users/sandaludesilva/opt/anaconda3/lib/python3.9/site-packages (from nltk) (2022.7.9)\n",
      "Requirement already satisfied: click in /Users/sandaludesilva/opt/anaconda3/lib/python3.9/site-packages (from nltk) (8.0.4)\n",
      "Requirement already satisfied: tqdm in /Users/sandaludesilva/opt/anaconda3/lib/python3.9/site-packages (from nltk) (4.64.1)\n",
      "Requirement already satisfied: snscrape in /Users/sandaludesilva/opt/anaconda3/lib/python3.9/site-packages (0.6.2.20230320)\n",
      "Requirement already satisfied: lxml in /Users/sandaludesilva/opt/anaconda3/lib/python3.9/site-packages (from snscrape) (4.9.1)\n",
      "Requirement already satisfied: filelock in /Users/sandaludesilva/opt/anaconda3/lib/python3.9/site-packages (from snscrape) (3.6.0)\n",
      "Requirement already satisfied: beautifulsoup4 in /Users/sandaludesilva/opt/anaconda3/lib/python3.9/site-packages (from snscrape) (4.11.1)\n",
      "Requirement already satisfied: requests[socks] in /Users/sandaludesilva/opt/anaconda3/lib/python3.9/site-packages (from snscrape) (2.28.1)\n",
      "Requirement already satisfied: soupsieve>1.2 in /Users/sandaludesilva/opt/anaconda3/lib/python3.9/site-packages (from beautifulsoup4->snscrape) (2.3.1)\n",
      "Requirement already satisfied: idna<4,>=2.5 in /Users/sandaludesilva/opt/anaconda3/lib/python3.9/site-packages (from requests[socks]->snscrape) (3.3)\n",
      "Requirement already satisfied: charset-normalizer<3,>=2 in /Users/sandaludesilva/opt/anaconda3/lib/python3.9/site-packages (from requests[socks]->snscrape) (2.0.4)\n",
      "Requirement already satisfied: certifi>=2017.4.17 in /Users/sandaludesilva/opt/anaconda3/lib/python3.9/site-packages (from requests[socks]->snscrape) (2022.9.24)\n",
      "Requirement already satisfied: urllib3<1.27,>=1.21.1 in /Users/sandaludesilva/opt/anaconda3/lib/python3.9/site-packages (from requests[socks]->snscrape) (1.26.11)\n",
      "Requirement already satisfied: PySocks!=1.5.7,>=1.5.6 in /Users/sandaludesilva/opt/anaconda3/lib/python3.9/site-packages (from requests[socks]->snscrape) (1.7.1)\n"
     ]
    }
   ],
   "source": [
    "!pip install tensorflow\n",
    "!pip install nltk\n",
    "!pip install snscrape"
   ]
  },
  {
   "cell_type": "code",
   "execution_count": null,
   "metadata": {
    "executionInfo": {
     "elapsed": 12,
     "status": "ok",
     "timestamp": 1680591867154,
     "user": {
      "displayName": "sandalu sankaja de silva",
      "userId": "12826508473947062911"
     },
     "user_tz": -330
    },
    "id": "n4BQxKevP9Yh"
   },
   "outputs": [],
   "source": [
    "import tensorflow as tf"
   ]
  },
  {
   "cell_type": "code",
   "execution_count": 1,
   "metadata": {
    "colab": {
     "base_uri": "https://localhost:8080/"
    },
    "executionInfo": {
     "elapsed": 3166,
     "status": "ok",
     "timestamp": 1680591870312,
     "user": {
      "displayName": "sandalu sankaja de silva",
      "userId": "12826508473947062911"
     },
     "user_tz": -330
    },
    "id": "m93wCy8xSJOs",
    "outputId": "8f466a81-a372-4e43-d9d2-1545fcf50790"
   },
   "outputs": [
    {
     "ename": "ModuleNotFoundError",
     "evalue": "No module named 'google.colab'",
     "output_type": "error",
     "traceback": [
      "\u001b[0;31m---------------------------------------------------------------------------\u001b[0m",
      "\u001b[0;31mModuleNotFoundError\u001b[0m                       Traceback (most recent call last)",
      "\u001b[0;32m/var/folders/rd/_c2cyfss0tz0pv4ywsns9nqc0000gn/T/ipykernel_4836/1408506528.py\u001b[0m in \u001b[0;36m<module>\u001b[0;34m\u001b[0m\n\u001b[0;32m----> 1\u001b[0;31m \u001b[0;32mfrom\u001b[0m \u001b[0mgoogle\u001b[0m\u001b[0;34m.\u001b[0m\u001b[0mcolab\u001b[0m \u001b[0;32mimport\u001b[0m \u001b[0mdrive\u001b[0m\u001b[0;34m\u001b[0m\u001b[0;34m\u001b[0m\u001b[0m\n\u001b[0m\u001b[1;32m      2\u001b[0m \u001b[0mdrive\u001b[0m\u001b[0;34m.\u001b[0m\u001b[0mmount\u001b[0m\u001b[0;34m(\u001b[0m\u001b[0;34m'/content/drive'\u001b[0m\u001b[0;34m)\u001b[0m\u001b[0;34m\u001b[0m\u001b[0;34m\u001b[0m\u001b[0m\n",
      "\u001b[0;31mModuleNotFoundError\u001b[0m: No module named 'google.colab'"
     ]
    }
   ],
   "source": [
    "# from google.colab import drive\n",
    "# drive.mount('/content/drive')"
   ]
  },
  {
   "cell_type": "code",
   "execution_count": null,
   "metadata": {
    "colab": {
     "base_uri": "https://localhost:8080/"
    },
    "executionInfo": {
     "elapsed": 10,
     "status": "ok",
     "timestamp": 1680591870313,
     "user": {
      "displayName": "sandalu sankaja de silva",
      "userId": "12826508473947062911"
     },
     "user_tz": -330
    },
    "id": "hCjGNKYbG_Rp",
    "outputId": "3ce9ce2a-811b-4dcf-e858-e26d77b7e463"
   },
   "outputs": [],
   "source": [
    "cd /content/drive/MyDrive/IndexPage"
   ]
  },
  {
   "cell_type": "code",
   "execution_count": null,
   "metadata": {
    "executionInfo": {
     "elapsed": 6,
     "status": "ok",
     "timestamp": 1680591870313,
     "user": {
      "displayName": "sandalu sankaja de silva",
      "userId": "12826508473947062911"
     },
     "user_tz": -330
    },
    "id": "cPKJrrMuQAiM"
   },
   "outputs": [],
   "source": [
    "# new_model = tf.keras.models.load_model('/content/drive/MyDrive/Colab Notebooks/ModelLSDM')\n",
    "# new_model.summary()"
   ]
  },
  {
   "cell_type": "code",
   "execution_count": null,
   "metadata": {
    "executionInfo": {
     "elapsed": 5,
     "status": "ok",
     "timestamp": 1680591870313,
     "user": {
      "displayName": "sandalu sankaja de silva",
      "userId": "12826508473947062911"
     },
     "user_tz": -330
    },
    "id": "N9NDrPZWQD_8"
   },
   "outputs": [],
   "source": [
    "import pandas as pd \n",
    "import datetime\n",
    "from tqdm.notebook import tqdm\n",
    "import snscrape.modules.twitter as sntwitter"
   ]
  },
  {
   "cell_type": "code",
   "execution_count": 2,
   "metadata": {
    "colab": {
     "base_uri": "https://localhost:8080/"
    },
    "executionInfo": {
     "elapsed": 13957,
     "status": "ok",
     "timestamp": 1680591884265,
     "user": {
      "displayName": "sandalu sankaja de silva",
      "userId": "12826508473947062911"
     },
     "user_tz": -330
    },
    "id": "QrYGCHrWWS_V",
    "outputId": "2eff0320-e26d-41c4-ce44-cc984a3878c3"
   },
   "outputs": [
    {
     "name": "stdout",
     "output_type": "stream",
     "text": [
      "Collecting pyngrok\n",
      "  Downloading pyngrok-5.2.1.tar.gz (761 kB)\n",
      "\u001b[2K     \u001b[90m━━━━━━━━━━━━━━━━━━━━━━━━━━━━━━━━━━━━━\u001b[0m \u001b[32m761.3/761.3 kB\u001b[0m \u001b[31m595.7 kB/s\u001b[0m eta \u001b[36m0:00:00\u001b[0ma \u001b[36m0:00:01\u001b[0m\n",
      "\u001b[?25h  Preparing metadata (setup.py) ... \u001b[?25ldone\n",
      "\u001b[?25hRequirement already satisfied: PyYAML in /Users/sandaludesilva/opt/anaconda3/lib/python3.9/site-packages (from pyngrok) (6.0)\n",
      "Building wheels for collected packages: pyngrok\n",
      "  Building wheel for pyngrok (setup.py) ... \u001b[?25ldone\n",
      "\u001b[?25h  Created wheel for pyngrok: filename=pyngrok-5.2.1-py3-none-any.whl size=19772 sha256=67d28bf2a2dafc1f4c0a1b3af6d5f4bf178ff2789c11db1e0e222bad2be73653\n",
      "  Stored in directory: /Users/sandaludesilva/Library/Caches/pip/wheels/f6/89/59/49d4249e00957e94813ac136a335d10ed2e09a856c5096f95c\n",
      "Successfully built pyngrok\n",
      "Installing collected packages: pyngrok\n",
      "Successfully installed pyngrok-5.2.1\n",
      "Collecting flask-ngrok\n",
      "  Downloading flask_ngrok-0.0.25-py3-none-any.whl (3.1 kB)\n",
      "Requirement already satisfied: Flask>=0.8 in /Users/sandaludesilva/opt/anaconda3/lib/python3.9/site-packages (from flask-ngrok) (1.1.2)\n",
      "Requirement already satisfied: requests in /Users/sandaludesilva/opt/anaconda3/lib/python3.9/site-packages (from flask-ngrok) (2.28.1)\n",
      "Requirement already satisfied: click>=5.1 in /Users/sandaludesilva/opt/anaconda3/lib/python3.9/site-packages (from Flask>=0.8->flask-ngrok) (8.0.4)\n",
      "Requirement already satisfied: itsdangerous>=0.24 in /Users/sandaludesilva/opt/anaconda3/lib/python3.9/site-packages (from Flask>=0.8->flask-ngrok) (2.0.1)\n",
      "Requirement already satisfied: Jinja2>=2.10.1 in /Users/sandaludesilva/opt/anaconda3/lib/python3.9/site-packages (from Flask>=0.8->flask-ngrok) (2.11.3)\n",
      "Requirement already satisfied: Werkzeug>=0.15 in /Users/sandaludesilva/opt/anaconda3/lib/python3.9/site-packages (from Flask>=0.8->flask-ngrok) (2.0.3)\n",
      "Requirement already satisfied: idna<4,>=2.5 in /Users/sandaludesilva/opt/anaconda3/lib/python3.9/site-packages (from requests->flask-ngrok) (3.3)\n",
      "Requirement already satisfied: urllib3<1.27,>=1.21.1 in /Users/sandaludesilva/opt/anaconda3/lib/python3.9/site-packages (from requests->flask-ngrok) (1.26.11)\n",
      "Requirement already satisfied: charset-normalizer<3,>=2 in /Users/sandaludesilva/opt/anaconda3/lib/python3.9/site-packages (from requests->flask-ngrok) (2.0.4)\n",
      "Requirement already satisfied: certifi>=2017.4.17 in /Users/sandaludesilva/opt/anaconda3/lib/python3.9/site-packages (from requests->flask-ngrok) (2022.9.24)\n",
      "Requirement already satisfied: MarkupSafe>=0.23 in /Users/sandaludesilva/opt/anaconda3/lib/python3.9/site-packages (from Jinja2>=2.10.1->Flask>=0.8->flask-ngrok) (2.0.1)\n",
      "Installing collected packages: flask-ngrok\n",
      "Successfully installed flask-ngrok-0.0.25\n"
     ]
    }
   ],
   "source": [
    "!pip install pyngrok\n",
    "!pip install flask-ngrok"
   ]
  },
  {
   "cell_type": "code",
   "execution_count": null,
   "metadata": {
    "executionInfo": {
     "elapsed": 11,
     "status": "ok",
     "timestamp": 1680591884266,
     "user": {
      "displayName": "sandalu sankaja de silva",
      "userId": "12826508473947062911"
     },
     "user_tz": -330
    },
    "id": "0pOTS_mxUabI"
   },
   "outputs": [
    {
     "name": "stdout",
     "output_type": "stream",
     "text": [
      "                                                                                                    \r"
     ]
    }
   ],
   "source": [
    "from pyngrok import ngrok\n",
    "ngrok.set_auth_token('2NpJgVAPvnKxciFH5fjre1ZkRLl_6sr3HQirtTuoAciZZeoY3')\n",
    "\n",
    "# Now you can use ngrok.connect() to expose a local web server\n"
   ]
  },
  {
   "cell_type": "code",
   "execution_count": null,
   "metadata": {
    "executionInfo": {
     "elapsed": 8,
     "status": "ok",
     "timestamp": 1680591884266,
     "user": {
      "displayName": "sandalu sankaja de silva",
      "userId": "12826508473947062911"
     },
     "user_tz": -330
    },
    "id": "vXxMwa4GUk10"
   },
   "outputs": [],
   "source": [
    "#cd /content/drive/MyDrive/ModelLSTM"
   ]
  },
  {
   "cell_type": "code",
   "execution_count": null,
   "metadata": {
    "executionInfo": {
     "elapsed": 8,
     "status": "ok",
     "timestamp": 1680591884267,
     "user": {
      "displayName": "sandalu sankaja de silva",
      "userId": "12826508473947062911"
     },
     "user_tz": -330
    },
    "id": "Ey94sSYgWKLD"
   },
   "outputs": [],
   "source": [
    "import re"
   ]
  },
  {
   "cell_type": "code",
   "execution_count": null,
   "metadata": {
    "colab": {
     "base_uri": "https://localhost:8080/"
    },
    "executionInfo": {
     "elapsed": 7,
     "status": "ok",
     "timestamp": 1680591884267,
     "user": {
      "displayName": "sandalu sankaja de silva",
      "userId": "12826508473947062911"
     },
     "user_tz": -330
    },
    "id": "dC_p8VzuWjj3",
    "outputId": "5f1e4e4e-4437-4d86-cbc7-af06b53f3ed1"
   },
   "outputs": [],
   "source": [
    "import nltk\n",
    "nltk.download('stopwords')\n",
    "nltk.download('wordnet')\n",
    "from nltk.corpus import stopwords\n",
    "from nltk.stem import WordNetLemmatizer\n",
    "from bs4 import BeautifulSoup"
   ]
  },
  {
   "cell_type": "code",
   "execution_count": null,
   "metadata": {
    "executionInfo": {
     "elapsed": 6,
     "status": "ok",
     "timestamp": 1680591884267,
     "user": {
      "displayName": "sandalu sankaja de silva",
      "userId": "12826508473947062911"
     },
     "user_tz": -330
    },
    "id": "NDaAC0f7WFp-"
   },
   "outputs": [],
   "source": [
    "# removing not and no from stop words as we need them for our model training\n",
    "stopwords = stopwords.words(\"english\")\n",
    "stopwords.remove('not')\n",
    "stopwords.remove('no')\n",
    "\n",
    "# intializing method for lemmatizing words\n",
    "lemmatizer = WordNetLemmatizer()\n",
    "\n",
    "# now creating funtion to clean our data\n",
    "def cleaned_review(review):\n",
    "    # remove any html tags\n",
    "    new_review = BeautifulSoup(review).get_text()\n",
    "    \n",
    "    # remove urls from reviews\n",
    "    no_urls = new_review.replace('http\\S+', '').replace('www\\S+', '')\n",
    "    \n",
    "    # remove any non-letters\n",
    "    clean_review = re.sub(\"[^a-zA-Z]\", \" \", no_urls)\n",
    "    \n",
    "    # convert whole sentence to lowercase and split\n",
    "    new_words = clean_review.lower().split()\n",
    "    \n",
    "    # converting stopwords list to set for faster search\n",
    "    stops = set(stopwords)\n",
    "    \n",
    "    # using stopwords to remove irrelavent words and lemmatizing the final output\n",
    "    final_words = [lemmatizer.lemmatize(word) for word in new_words if not word in stops]\n",
    "    \n",
    "    # return the final result\n",
    "    return (\" \".join(final_words))"
   ]
  },
  {
   "cell_type": "code",
   "execution_count": null,
   "metadata": {
    "colab": {
     "base_uri": "https://localhost:8080/"
    },
    "executionInfo": {
     "elapsed": 2451,
     "status": "ok",
     "timestamp": 1680591886713,
     "user": {
      "displayName": "sandalu sankaja de silva",
      "userId": "12826508473947062911"
     },
     "user_tz": -330
    },
    "id": "-iwpwvEZWEPG",
    "outputId": "e641cca0-4db2-44c7-f1fb-2407124b741c"
   },
   "outputs": [],
   "source": [
    "# Importing required libraries\n",
    "from tensorflow.keras.models import load_model\n",
    "import numpy as np\n",
    "\n",
    "# Loading the saved model\n",
    "newModel = load_model('ModelLSDM')\n",
    "newModel.summary()\n",
    "\n"
   ]
  },
  {
   "cell_type": "code",
   "execution_count": null,
   "metadata": {
    "executionInfo": {
     "elapsed": 10,
     "status": "ok",
     "timestamp": 1680591886713,
     "user": {
      "displayName": "sandalu sankaja de silva",
      "userId": "12826508473947062911"
     },
     "user_tz": -330
    },
    "id": "5TrshOseUn_o"
   },
   "outputs": [],
   "source": [
    "from flask_ngrok import run_with_ngrok\n",
    "from flask import Flask, render_template, request\n",
    "\n",
    "app = Flask(__name__)\n",
    "run_with_ngrok(app)\n",
    "import os\n",
    "\n",
    "@app.route('/')\n",
    "def index():\n",
    "\n",
    "    return render_template(\"index.html\")\n",
    "\n"
   ]
  },
  {
   "cell_type": "code",
   "execution_count": null,
   "metadata": {
    "executionInfo": {
     "elapsed": 9,
     "status": "ok",
     "timestamp": 1680591886713,
     "user": {
      "displayName": "sandalu sankaja de silva",
      "userId": "12826508473947062911"
     },
     "user_tz": -330
    },
    "id": "MCvj81tuKEfO"
   },
   "outputs": [],
   "source": [
    "# input_text = \"fddf\""
   ]
  },
  {
   "cell_type": "code",
   "execution_count": null,
   "metadata": {
    "executionInfo": {
     "elapsed": 10,
     "status": "ok",
     "timestamp": 1680591886714,
     "user": {
      "displayName": "sandalu sankaja de silva",
      "userId": "12826508473947062911"
     },
     "user_tz": -330
    },
    "id": "7spKJ7arUsAs"
   },
   "outputs": [],
   "source": [
    "@app.route('/results', methods=['POST'])\n",
    "def results():\n",
    "\n",
    "    profile = request.form['username']\n",
    "    print(profile)\n",
    "\n",
    "    # Scrape Twitter profile\n",
    "    now = datetime.datetime.now()\n",
    "    twenty_four_hours_ago = now - datetime.timedelta(hours=24)\n",
    "    formatted_time = twenty_four_hours_ago.strftime('%Y-%m-%d')\n",
    "    userScraper = sntwitter.TwitterProfileScraper(profile)\n",
    "    userdata = userScraper._get_entity()\n",
    "\n",
    "    \n",
    "    tweets = []\n",
    "    input_text=\"\"\n",
    "    for i, tweet in enumerate(userScraper.get_items()):\n",
    "        if isinstance(tweet, sntwitter.Tweet) and tweet.date.strftime('%Y-%m-%d') >= formatted_time:\n",
    "            if(i > 1):\n",
    "                break\n",
    "            data = [tweet.date,\n",
    "                    tweet.rawContent,\n",
    "                    tweet.likeCount,\n",
    "                    tweet.retweetCount]\n",
    "            input_text += tweet.rawContent\n",
    "            tweets.append(data)\n",
    "\n",
    "    input_text = cleaned_review(input_text)\n",
    "\n",
    "    # So we see above that max no.of words in each sentence is 40\n",
    "    max_len = 40\n",
    "\n",
    "    from tensorflow.keras.preprocessing.text import Tokenizer\n",
    "    from tensorflow.keras.preprocessing.sequence import pad_sequences\n",
    "\n",
    "    tokenizer = Tokenizer(num_words=10000)\n",
    "    tokenizer.fit_on_texts(input_text)\n",
    "\n",
    "    # # Preprocess input text\n",
    "    input_sequence = tokenizer.texts_to_sequences([input_text])\n",
    "    padded_input_sequence = pad_sequences(input_sequence, maxlen=max_len, padding='post')\n",
    "    \n",
    "    # Make prediction\n",
    "    preds = newModel.predict(padded_input_sequence)\n",
    "    sentiment_labels = ['Negative', 'Neutral', 'Positive']\n",
    "    predicted_label = sentiment_labels[np.argmax(preds)]\n",
    "\n",
    "\n",
    "    return render_template('results.html', predicted_label=predicted_label)\n"
   ]
  },
  {
   "cell_type": "code",
   "execution_count": null,
   "metadata": {
    "colab": {
     "background_save": true,
     "base_uri": "https://localhost:8080/"
    },
    "id": "tzcuPMJQdGyB"
   },
   "outputs": [],
   "source": [
    "app.run()"
   ]
  }
 ],
 "metadata": {
  "colab": {
   "name": "",
   "version": ""
  },
  "kernelspec": {
   "display_name": "Python 3 (ipykernel)",
   "language": "python",
   "name": "python3"
  },
  "language_info": {
   "codemirror_mode": {
    "name": "ipython",
    "version": 3
   },
   "file_extension": ".py",
   "mimetype": "text/x-python",
   "name": "python",
   "nbconvert_exporter": "python",
   "pygments_lexer": "ipython3",
   "version": "3.9.13"
  }
 },
 "nbformat": 4,
 "nbformat_minor": 1
}
